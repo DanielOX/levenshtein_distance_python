{
 "cells": [
  {
   "cell_type": "code",
   "execution_count": 2,
   "metadata": {},
   "outputs": [],
   "source": [
    "import numpy as np\n",
    "import string"
   ]
  },
  {
   "cell_type": "code",
   "execution_count": 3,
   "metadata": {},
   "outputs": [],
   "source": [
    "# prepare pre-processing\n",
    "\n",
    "delete_dict = {sp_character: '' for sp_character in string.punctuation}\n",
    "delete_dict[' '] = ''\n",
    "table = str.maketrans(delete_dict)\n",
    "\n",
    "def normalise(word):\n",
    "    return word.lower()\\\n",
    "            .strip()\\\n",
    "            .translate(table)"
   ]
  },
  {
   "cell_type": "code",
   "execution_count": 4,
   "metadata": {},
   "outputs": [
    {
     "name": "stdout",
     "output_type": "stream",
     "text": [
      "Levenshtien Distance: 3\n",
      "\n",
      "Matrix: \n",
      "\n"
     ]
    },
    {
     "data": {
      "text/plain": [
       "array([[0, 1, 2, 3, 4, 5, 6],\n",
       "       [1, 0, 1, 2, 3, 4, 5],\n",
       "       [2, 1, 0, 1, 2, 3, 4],\n",
       "       [3, 2, 1, 0, 1, 2, 3],\n",
       "       [4, 3, 2, 1, 2, 3, 4],\n",
       "       [5, 4, 3, 2, 3, 2, 3]])"
      ]
     },
     "metadata": {},
     "output_type": "display_data"
    }
   ],
   "source": [
    "def min_edit_distance(source, target):\n",
    "    \"\"\"\n",
    "     @params\n",
    "        - source: the word which is typed\n",
    "        - target: words in dictionary \n",
    "    \"\"\"\n",
    "\n",
    "\n",
    "    source = np.array([k for k in source])\n",
    "    target = np.array([k for k in target])\n",
    "\n",
    "    len_target = len(target)\n",
    "    len_source = len(source)\n",
    "\n",
    "    # 0 matrix with len(source) x len(target)\n",
    "    sol = np.zeros((len_source, len_target), dtype=int)\n",
    "    # first row \n",
    "\n",
    "    sol[0] = [k for k in range(len_target)]\n",
    "    sol[:,0] = [k for k in range(len_source)]\n",
    "    for col in range(1, len_target):\n",
    "        for row in range(1, len_source):\n",
    "            if target[col] != source[row]:\n",
    "               sol[row, col] = min(sol[row - 1, col], sol[row, col - 1]) + 1\n",
    "            else:\n",
    "                sol[row, col] = sol[row - 1, col-1]\n",
    "    return sol[len_source - 1, len_target - 1], sol\n",
    "\n",
    "source = 'Danial'\n",
    "target = 'Danielo'\n",
    "\n",
    "# normalise text\n",
    "source = normalise(source)\n",
    "target = normalise(target)\n",
    "\n",
    "source = normalise(source)\n",
    "target = normalise(target)\n",
    "\n",
    "distance, Distancematrix =  min_edit_distance(source, target)\n",
    "\n",
    "print(f\"Levenshtien Distance: {distance}\\n\")\n",
    "print(f\"Matrix: \\n\")\n",
    "display(Distancematrix)"
   ]
  },
  {
   "cell_type": "code",
   "execution_count": 5,
   "metadata": {},
   "outputs": [
    {
     "data": {
      "text/html": [
       "<div>\n",
       "<style scoped>\n",
       "    .dataframe tbody tr th:only-of-type {\n",
       "        vertical-align: middle;\n",
       "    }\n",
       "\n",
       "    .dataframe tbody tr th {\n",
       "        vertical-align: top;\n",
       "    }\n",
       "\n",
       "    .dataframe thead th {\n",
       "        text-align: right;\n",
       "    }\n",
       "</style>\n",
       "<table border=\"1\" class=\"dataframe\">\n",
       "  <thead>\n",
       "    <tr style=\"text-align: right;\">\n",
       "      <th></th>\n",
       "      <th>d</th>\n",
       "      <th>a</th>\n",
       "      <th>n</th>\n",
       "      <th>i</th>\n",
       "      <th>e</th>\n",
       "      <th>l</th>\n",
       "      <th>o</th>\n",
       "    </tr>\n",
       "  </thead>\n",
       "  <tbody>\n",
       "    <tr>\n",
       "      <th>d</th>\n",
       "      <td>0</td>\n",
       "      <td>1</td>\n",
       "      <td>2</td>\n",
       "      <td>3</td>\n",
       "      <td>4</td>\n",
       "      <td>5</td>\n",
       "      <td>6</td>\n",
       "    </tr>\n",
       "    <tr>\n",
       "      <th>a</th>\n",
       "      <td>1</td>\n",
       "      <td>0</td>\n",
       "      <td>1</td>\n",
       "      <td>2</td>\n",
       "      <td>3</td>\n",
       "      <td>4</td>\n",
       "      <td>5</td>\n",
       "    </tr>\n",
       "    <tr>\n",
       "      <th>n</th>\n",
       "      <td>2</td>\n",
       "      <td>1</td>\n",
       "      <td>0</td>\n",
       "      <td>1</td>\n",
       "      <td>2</td>\n",
       "      <td>3</td>\n",
       "      <td>4</td>\n",
       "    </tr>\n",
       "    <tr>\n",
       "      <th>i</th>\n",
       "      <td>3</td>\n",
       "      <td>2</td>\n",
       "      <td>1</td>\n",
       "      <td>0</td>\n",
       "      <td>1</td>\n",
       "      <td>2</td>\n",
       "      <td>3</td>\n",
       "    </tr>\n",
       "    <tr>\n",
       "      <th>a</th>\n",
       "      <td>4</td>\n",
       "      <td>3</td>\n",
       "      <td>2</td>\n",
       "      <td>1</td>\n",
       "      <td>2</td>\n",
       "      <td>3</td>\n",
       "      <td>4</td>\n",
       "    </tr>\n",
       "    <tr>\n",
       "      <th>l</th>\n",
       "      <td>5</td>\n",
       "      <td>4</td>\n",
       "      <td>3</td>\n",
       "      <td>2</td>\n",
       "      <td>3</td>\n",
       "      <td>2</td>\n",
       "      <td>3</td>\n",
       "    </tr>\n",
       "  </tbody>\n",
       "</table>\n",
       "</div>"
      ],
      "text/plain": [
       "   d  a  n  i  e  l  o\n",
       "d  0  1  2  3  4  5  6\n",
       "a  1  0  1  2  3  4  5\n",
       "n  2  1  0  1  2  3  4\n",
       "i  3  2  1  0  1  2  3\n",
       "a  4  3  2  1  2  3  4\n",
       "l  5  4  3  2  3  2  3"
      ]
     },
     "execution_count": 5,
     "metadata": {},
     "output_type": "execute_result"
    }
   ],
   "source": [
    "import pandas as pd \n",
    "df = pd.DataFrame(Distancematrix, columns=[k for k in target], index=[k for k in source])\n",
    "df"
   ]
  },
  {
   "cell_type": "code",
   "execution_count": 6,
   "metadata": {},
   "outputs": [],
   "source": [
    "x, y = df.shape\n",
    "x, y = x - 1, y - 1"
   ]
  },
  {
   "cell_type": "code",
   "execution_count": 7,
   "metadata": {},
   "outputs": [
    {
     "data": {
      "text/plain": [
       "<matplotlib.patches.Rectangle at 0x7f907df14fd0>"
      ]
     },
     "execution_count": 7,
     "metadata": {},
     "output_type": "execute_result"
    },
    {
     "data": {
      "image/png": "[encoded data removed]",
      "text/plain": [
       "<Figure size 1800x400 with 2 Axes>"
      ]
     },
     "metadata": {},
     "output_type": "display_data"
    }
   ],
   "source": [
    "import matplotlib.pyplot as plt \n",
    "import seaborn as sns \n",
    "from matplotlib.pyplot import Rectangle\n",
    "plt.figure(figsize=(18, 4))\n",
    "ax = sns.heatmap(df, cmap='crest', annot=True, fmt='g')\n",
    "ax.tick_params(labeltop=True)\n",
    "ax.add_patch(Rectangle(\n",
    "         (y, x),\n",
    "         1.0,\n",
    "         1,\n",
    "         edgecolor='red',\n",
    "         fill=False,\n",
    "         lw=6\n",
    "     ))"
   ]
  },
  {
   "cell_type": "code",
   "execution_count": null,
   "metadata": {},
   "outputs": [],
   "source": []
  }
 ],
 "metadata": {
  "kernelspec": {
   "display_name": "Python 3",
   "language": "python",
   "name": "python3"
  },
  "language_info": {
   "codemirror_mode": {
    "name": "ipython",
    "version": 3
   },
   "file_extension": ".py",
   "mimetype": "text/x-python",
   "name": "python",
   "nbconvert_exporter": "python",
   "pygments_lexer": "ipython3",
   "version": "3.10.13"
  }
 },
 "nbformat": 4,
 "nbformat_minor": 2
}
